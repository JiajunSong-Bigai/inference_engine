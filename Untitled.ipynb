{
 "cells": [
  {
   "cell_type": "code",
   "execution_count": 1,
   "id": "78b5b77e",
   "metadata": {},
   "outputs": [
    {
     "data": {
      "text/plain": [
       "'/home/jwang/Documents/GeomGen/inference_engine'"
      ]
     },
     "execution_count": 1,
     "metadata": {},
     "output_type": "execute_result"
    }
   ],
   "source": [
    "pwd"
   ]
  },
  {
   "cell_type": "code",
   "execution_count": 2,
   "id": "1784ac8c",
   "metadata": {},
   "outputs": [],
   "source": [
    "from tests import test_prover"
   ]
  },
  {
   "cell_type": "code",
   "execution_count": 4,
   "id": "20a96b40",
   "metadata": {},
   "outputs": [
    {
     "ename": "ModuleNotFoundError",
     "evalue": "No module named 'database'",
     "output_type": "error",
     "traceback": [
      "\u001b[0;31m---------------------------------------------------------------------------\u001b[0m",
      "\u001b[0;31mModuleNotFoundError\u001b[0m                       Traceback (most recent call last)",
      "\u001b[0;32m/tmp/ipykernel_181459/2470378031.py\u001b[0m in \u001b[0;36m<module>\u001b[0;34m\u001b[0m\n\u001b[0;32m----> 1\u001b[0;31m \u001b[0;32mfrom\u001b[0m \u001b[0msrc\u001b[0m \u001b[0;32mimport\u001b[0m \u001b[0minference\u001b[0m\u001b[0;34m\u001b[0m\u001b[0;34m\u001b[0m\u001b[0m\n\u001b[0m",
      "\u001b[0;32m~/Documents/GeomGen/inference_engine/src/inference.py\u001b[0m in \u001b[0;36m<module>\u001b[0;34m\u001b[0m\n\u001b[1;32m      1\u001b[0m \u001b[0;32mfrom\u001b[0m \u001b[0msrc\u001b[0m\u001b[0;34m.\u001b[0m\u001b[0mpredicate\u001b[0m \u001b[0;32mimport\u001b[0m \u001b[0mPredicate\u001b[0m\u001b[0;34m\u001b[0m\u001b[0;34m\u001b[0m\u001b[0m\n\u001b[0;32m----> 2\u001b[0;31m \u001b[0;32mfrom\u001b[0m \u001b[0mdatabase\u001b[0m \u001b[0;32mimport\u001b[0m \u001b[0mDatabase\u001b[0m\u001b[0;34m\u001b[0m\u001b[0;34m\u001b[0m\u001b[0m\n\u001b[0m\u001b[1;32m      3\u001b[0m \u001b[0;32mfrom\u001b[0m \u001b[0mrules\u001b[0m \u001b[0;32mimport\u001b[0m \u001b[0mFC\u001b[0m\u001b[0;34m\u001b[0m\u001b[0;34m\u001b[0m\u001b[0m\n\u001b[1;32m      4\u001b[0m \u001b[0;32mfrom\u001b[0m \u001b[0mfact\u001b[0m \u001b[0;32mimport\u001b[0m \u001b[0mFact\u001b[0m\u001b[0;34m\u001b[0m\u001b[0;34m\u001b[0m\u001b[0m\n\u001b[1;32m      5\u001b[0m \u001b[0;32mfrom\u001b[0m \u001b[0mtyping\u001b[0m \u001b[0;32mimport\u001b[0m \u001b[0mTuple\u001b[0m\u001b[0;34m\u001b[0m\u001b[0;34m\u001b[0m\u001b[0m\n",
      "\u001b[0;31mModuleNotFoundError\u001b[0m: No module named 'database'"
     ]
    }
   ],
   "source": [
    "from src import inference"
   ]
  },
  {
   "cell_type": "code",
   "execution_count": 5,
   "id": "9a9bdc3a",
   "metadata": {},
   "outputs": [
    {
     "name": "stdout",
     "output_type": "stream",
     "text": [
      "POP FACT: midp (['D', 'A', 'B'])\n",
      "{midp (['D', 'A', 'B']): 0}\n",
      "NEW FACTS: [cong ([AD, BD]), coll (['D', 'A', 'B']), cong ([BD, AD]), coll (['D', 'B', 'A'])]\n",
      "NEW_FACT_LIST: [coll (['D', 'A', 'B']), coll (['D', 'B', 'A']), cong ([AD, BD]), cong ([BD, AD]), perp (['line1', 'line2'])]\n",
      "LINES: {'line1': {'A', 'C'}, 'line2': {'B', 'C'}}\n",
      "================================================================================\n",
      "POP FACT: coll (['D', 'A', 'B'])\n",
      "{midp (['D', 'A', 'B']): 0, coll (['D', 'A', 'B']): 0}\n",
      "NEW FACTS: []\n",
      "coll (['D', 'A', 'B'])\n",
      "NEW_FACT_LIST: [coll (['D', 'B', 'A']), cong ([AD, BD]), cong ([BD, AD]), perp (['line1', 'line2'])]\n",
      "LINES: {'line1': {'A', 'C'}, 'line2': {'B', 'C'}, 'line3': {'D', 'A', 'B'}}\n",
      "================================================================================\n",
      "POP FACT: coll (['D', 'B', 'A'])\n",
      "{midp (['D', 'A', 'B']): 0, coll (['D', 'A', 'B']): 0, coll (['D', 'B', 'A']): 1}\n",
      "NEW FACTS: []\n",
      "NEW_FACT_LIST: [cong ([AD, BD]), cong ([BD, AD]), perp (['line1', 'line2'])]\n",
      "LINES: {'line1': {'A', 'C'}, 'line2': {'B', 'C'}, 'line3': {'D', 'A', 'B'}}\n",
      "================================================================================\n",
      "POP FACT: cong ([AD, BD])\n",
      "{midp (['D', 'A', 'B']): 0, coll (['D', 'A', 'B']): 0, coll (['D', 'B', 'A']): 1, cong ([AD, BD]): 1}\n",
      "NEW FACTS: []\n",
      "cong ([AD, BD])\n",
      "NEW_FACT_LIST: [cong ([BD, AD]), perp (['line1', 'line2'])]\n",
      "LINES: {'line1': {'A', 'C'}, 'line2': {'B', 'C'}, 'line3': {'D', 'A', 'B'}}\n",
      "================================================================================\n",
      "POP FACT: cong ([BD, AD])\n",
      "{midp (['D', 'A', 'B']): 0, coll (['D', 'A', 'B']): 0, coll (['D', 'B', 'A']): 1, cong ([AD, BD]): 1, cong ([BD, AD]): 2}\n",
      "NEW FACTS: []\n",
      "NEW_FACT_LIST: [perp (['line1', 'line2'])]\n",
      "LINES: {'line1': {'A', 'C'}, 'line2': {'B', 'C'}, 'line3': {'D', 'A', 'B'}}\n",
      "================================================================================\n",
      "POP FACT: perp (['line1', 'line2'])\n",
      "{midp (['D', 'A', 'B']): 0, coll (['D', 'A', 'B']): 0, coll (['D', 'B', 'A']): 1, cong ([AD, BD]): 1, cong ([BD, AD]): 2, perp (['line1', 'line2']): 2}\n",
      "NEW FACTS: [cong ([AD, CD])]\n",
      "NEW_FACT_LIST: [cong ([AD, CD])]\n",
      "LINES: {'line1': {'A', 'C'}, 'line2': {'B', 'C'}, 'line3': {'D', 'A', 'B'}}\n",
      "================================================================================\n",
      "POP FACT: cong ([AD, CD])\n",
      "{midp (['D', 'A', 'B']): 0, coll (['D', 'A', 'B']): 0, coll (['D', 'B', 'A']): 1, cong ([AD, BD]): 1, cong ([BD, AD]): 2, perp (['line1', 'line2']): 2, cong ([AD, CD]): 2}\n",
      "NEW FACTS: [eqangle (['line3', 'line1', 'line1', 'line4']), circle (['D', 'A', 'C', 'B'])]\n",
      "cong ([AD, CD])\n",
      "NEW_FACT_LIST: [eqangle (['line3', 'line1', 'line1', 'line4']), circle (['D', 'A', 'C', 'B'])]\n",
      "LINES: {'line1': {'A', 'C'}, 'line2': {'B', 'C'}, 'line3': {'D', 'A', 'B'}, 'line4': {'D', 'C'}}\n",
      "================================================================================\n",
      "POP FACT: eqangle (['line3', 'line1', 'line1', 'line4'])\n",
      "{midp (['D', 'A', 'B']): 0, coll (['D', 'A', 'B']): 0, coll (['D', 'B', 'A']): 1, cong ([AD, BD]): 1, cong ([BD, AD]): 2, perp (['line1', 'line2']): 2, cong ([AD, CD]): 2, eqangle (['line3', 'line1', 'line1', 'line4']): 3}\n",
      "NEW FACTS: [cong ([AD, CD]), cong ([AD, CD])]\n",
      "eqangle (['line3', 'line1', 'line1', 'line4'])\n",
      "NEW_FACT_LIST: [circle (['D', 'A', 'C', 'B'])]\n",
      "LINES: {'line1': {'A', 'C'}, 'line2': {'B', 'C'}, 'line3': {'D', 'A', 'B'}, 'line4': {'D', 'C'}}\n",
      "================================================================================\n",
      "POP FACT: circle (['D', 'A', 'C', 'B'])\n",
      "{midp (['D', 'A', 'B']): 0, coll (['D', 'A', 'B']): 0, coll (['D', 'B', 'A']): 1, cong ([AD, BD]): 1, cong ([BD, AD]): 2, perp (['line1', 'line2']): 2, cong ([AD, CD]): 2, eqangle (['line3', 'line1', 'line1', 'line4']): 3, circle (['D', 'A', 'C', 'B']): 4}\n",
      "NEW FACTS: []\n",
      "circle (['D', 'A', 'C', 'B'])\n",
      "NEW_FACT_LIST: []\n",
      "LINES: {'line1': {'A', 'C'}, 'line2': {'B', 'C'}, 'line3': {'D', 'A', 'B'}, 'line4': {'D', 'C'}}\n",
      "================================================================================\n",
      "9 5\n",
      "\n",
      "Database\n",
      "\n",
      "> Coll Facts\n",
      "  coll(A,B,D)\n",
      "\n",
      "> Perp Facts\n",
      "  perp( [A,C] [B,C] )\n",
      "\n",
      "> Eqangle Facts\n",
      "  eqangle( Angle([A,B,D],[A,C]), Angle([A,C],[C,D]) )\n",
      "\n",
      "> Cong Facts\n",
      "  cong(CD, BD, AD)\n",
      "\n",
      "> Circle Facts\n",
      "circle(D, A,B,C)\n",
      "\n",
      "########################################\n",
      "\n",
      "\n"
     ]
    }
   ],
   "source": [
    "test_prover.test_01()"
   ]
  },
  {
   "cell_type": "code",
   "execution_count": 23,
   "id": "6d2a90ce",
   "metadata": {},
   "outputs": [
    {
     "ename": "AttributeError",
     "evalue": "module 'src' has no attribute 'inference'",
     "output_type": "error",
     "traceback": [
      "\u001b[0;31m---------------------------------------------------------------------------\u001b[0m",
      "\u001b[0;31mAttributeError\u001b[0m                            Traceback (most recent call last)",
      "\u001b[0;32m/tmp/ipykernel_84048/3405579654.py\u001b[0m in \u001b[0;36m<module>\u001b[0;34m\u001b[0m\n\u001b[0;32m----> 1\u001b[0;31m \u001b[0msrc\u001b[0m\u001b[0;34m.\u001b[0m\u001b[0minference\u001b[0m\u001b[0;34m\u001b[0m\u001b[0;34m\u001b[0m\u001b[0m\n\u001b[0m",
      "\u001b[0;31mAttributeError\u001b[0m: module 'src' has no attribute 'inference'"
     ]
    }
   ],
   "source": []
  },
  {
   "cell_type": "code",
   "execution_count": null,
   "id": "1871ba2f",
   "metadata": {},
   "outputs": [],
   "source": []
  }
 ],
 "metadata": {
  "kernelspec": {
   "display_name": "Python 3 (ipykernel)",
   "language": "python",
   "name": "python3"
  },
  "language_info": {
   "codemirror_mode": {
    "name": "ipython",
    "version": 3
   },
   "file_extension": ".py",
   "mimetype": "text/x-python",
   "name": "python",
   "nbconvert_exporter": "python",
   "pygments_lexer": "ipython3",
   "version": "3.9.13"
  }
 },
 "nbformat": 4,
 "nbformat_minor": 5
}
